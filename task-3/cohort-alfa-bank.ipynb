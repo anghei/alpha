{
 "cells": [
  {
   "cell_type": "code",
   "execution_count": 1,
   "metadata": {},
   "outputs": [],
   "source": [
    "import pandas as pd\n",
    "import warnings \n",
    "import matplotlib.pyplot as plt\n",
    "\n",
    "warnings.filterwarnings('ignore')"
   ]
  },
  {
   "cell_type": "code",
   "execution_count": 2,
   "metadata": {},
   "outputs": [],
   "source": [
    "df = pd.read_csv('https://raw.githubusercontent.com/Propsih/test/main/data_test.csv', sep=';')"
   ]
  },
  {
   "cell_type": "code",
   "execution_count": 3,
   "metadata": {},
   "outputs": [
    {
     "data": {
      "text/html": [
       "<div>\n",
       "<style scoped>\n",
       "    .dataframe tbody tr th:only-of-type {\n",
       "        vertical-align: middle;\n",
       "    }\n",
       "\n",
       "    .dataframe tbody tr th {\n",
       "        vertical-align: top;\n",
       "    }\n",
       "\n",
       "    .dataframe thead th {\n",
       "        text-align: right;\n",
       "    }\n",
       "</style>\n",
       "<table border=\"1\" class=\"dataframe\">\n",
       "  <thead>\n",
       "    <tr style=\"text-align: right;\">\n",
       "      <th></th>\n",
       "      <th>CLIENT_ID</th>\n",
       "      <th>VALUE_DAY</th>\n",
       "      <th>DIGITAL_30_CNT</th>\n",
       "      <th>TRAN_ACTIVE_30_CNT</th>\n",
       "      <th>OPER_ACTIVE_30_CNT</th>\n",
       "    </tr>\n",
       "  </thead>\n",
       "  <tbody>\n",
       "    <tr>\n",
       "      <th>0</th>\n",
       "      <td>3596869440</td>\n",
       "      <td>30.09.2021</td>\n",
       "      <td>18.0</td>\n",
       "      <td>8.0</td>\n",
       "      <td>9.0</td>\n",
       "    </tr>\n",
       "    <tr>\n",
       "      <th>1</th>\n",
       "      <td>181778433</td>\n",
       "      <td>30.09.2021</td>\n",
       "      <td>7.0</td>\n",
       "      <td>3.0</td>\n",
       "      <td>3.0</td>\n",
       "    </tr>\n",
       "    <tr>\n",
       "      <th>2</th>\n",
       "      <td>4271531990</td>\n",
       "      <td>30.09.2021</td>\n",
       "      <td>2.0</td>\n",
       "      <td>0.0</td>\n",
       "      <td>0.0</td>\n",
       "    </tr>\n",
       "    <tr>\n",
       "      <th>3</th>\n",
       "      <td>3949165697</td>\n",
       "      <td>30.09.2021</td>\n",
       "      <td>15.0</td>\n",
       "      <td>4.0</td>\n",
       "      <td>5.0</td>\n",
       "    </tr>\n",
       "    <tr>\n",
       "      <th>4</th>\n",
       "      <td>1926920317</td>\n",
       "      <td>30.09.2021</td>\n",
       "      <td>3.0</td>\n",
       "      <td>0.0</td>\n",
       "      <td>0.0</td>\n",
       "    </tr>\n",
       "  </tbody>\n",
       "</table>\n",
       "</div>"
      ],
      "text/plain": [
       "    CLIENT_ID   VALUE_DAY  DIGITAL_30_CNT  TRAN_ACTIVE_30_CNT  \\\n",
       "0  3596869440  30.09.2021            18.0                 8.0   \n",
       "1   181778433  30.09.2021             7.0                 3.0   \n",
       "2  4271531990  30.09.2021             2.0                 0.0   \n",
       "3  3949165697  30.09.2021            15.0                 4.0   \n",
       "4  1926920317  30.09.2021             3.0                 0.0   \n",
       "\n",
       "   OPER_ACTIVE_30_CNT  \n",
       "0                 9.0  \n",
       "1                 3.0  \n",
       "2                 0.0  \n",
       "3                 5.0  \n",
       "4                 0.0  "
      ]
     },
     "execution_count": 3,
     "metadata": {},
     "output_type": "execute_result"
    }
   ],
   "source": [
    "df.head()"
   ]
  },
  {
   "cell_type": "code",
   "execution_count": 4,
   "metadata": {},
   "outputs": [
    {
     "data": {
      "text/plain": [
       "(805821, 5)"
      ]
     },
     "execution_count": 4,
     "metadata": {},
     "output_type": "execute_result"
    }
   ],
   "source": [
    "df.shape"
   ]
  },
  {
   "cell_type": "code",
   "execution_count": 5,
   "metadata": {},
   "outputs": [
    {
     "name": "stdout",
     "output_type": "stream",
     "text": [
      "<class 'pandas.core.frame.DataFrame'>\n",
      "RangeIndex: 805821 entries, 0 to 805820\n",
      "Data columns (total 5 columns):\n",
      " #   Column              Non-Null Count   Dtype  \n",
      "---  ------              --------------   -----  \n",
      " 0   CLIENT_ID           805821 non-null  int64  \n",
      " 1   VALUE_DAY           805821 non-null  object \n",
      " 2   DIGITAL_30_CNT      711169 non-null  float64\n",
      " 3   TRAN_ACTIVE_30_CNT  711169 non-null  float64\n",
      " 4   OPER_ACTIVE_30_CNT  711169 non-null  float64\n",
      "dtypes: float64(3), int64(1), object(1)\n",
      "memory usage: 76.1 MB\n"
     ]
    }
   ],
   "source": [
    "df.info(memory_usage='deep')"
   ]
  },
  {
   "cell_type": "code",
   "execution_count": 6,
   "metadata": {},
   "outputs": [],
   "source": [
    "cols = [col.lower() for col in df.columns]\n",
    "df.set_axis(cols, axis=1, inplace=True)"
   ]
  },
  {
   "cell_type": "code",
   "execution_count": 8,
   "metadata": {},
   "outputs": [],
   "source": [
    "df['value_day'] = pd.to_datetime(df['value_day'])"
   ]
  },
  {
   "cell_type": "code",
   "execution_count": 9,
   "metadata": {},
   "outputs": [
    {
     "data": {
      "text/html": [
       "<div>\n",
       "<style scoped>\n",
       "    .dataframe tbody tr th:only-of-type {\n",
       "        vertical-align: middle;\n",
       "    }\n",
       "\n",
       "    .dataframe tbody tr th {\n",
       "        vertical-align: top;\n",
       "    }\n",
       "\n",
       "    .dataframe thead th {\n",
       "        text-align: right;\n",
       "    }\n",
       "</style>\n",
       "<table border=\"1\" class=\"dataframe\">\n",
       "  <thead>\n",
       "    <tr style=\"text-align: right;\">\n",
       "      <th></th>\n",
       "      <th>client_id</th>\n",
       "      <th>value_day</th>\n",
       "      <th>digital_30_cnt</th>\n",
       "      <th>tran_active_30_cnt</th>\n",
       "      <th>oper_active_30_cnt</th>\n",
       "    </tr>\n",
       "  </thead>\n",
       "  <tbody>\n",
       "    <tr>\n",
       "      <th>0</th>\n",
       "      <td>3596869440</td>\n",
       "      <td>2021-09-30</td>\n",
       "      <td>18.0</td>\n",
       "      <td>8.0</td>\n",
       "      <td>9.0</td>\n",
       "    </tr>\n",
       "    <tr>\n",
       "      <th>1</th>\n",
       "      <td>181778433</td>\n",
       "      <td>2021-09-30</td>\n",
       "      <td>7.0</td>\n",
       "      <td>3.0</td>\n",
       "      <td>3.0</td>\n",
       "    </tr>\n",
       "    <tr>\n",
       "      <th>2</th>\n",
       "      <td>4271531990</td>\n",
       "      <td>2021-09-30</td>\n",
       "      <td>2.0</td>\n",
       "      <td>0.0</td>\n",
       "      <td>0.0</td>\n",
       "    </tr>\n",
       "    <tr>\n",
       "      <th>3</th>\n",
       "      <td>3949165697</td>\n",
       "      <td>2021-09-30</td>\n",
       "      <td>15.0</td>\n",
       "      <td>4.0</td>\n",
       "      <td>5.0</td>\n",
       "    </tr>\n",
       "    <tr>\n",
       "      <th>4</th>\n",
       "      <td>1926920317</td>\n",
       "      <td>2021-09-30</td>\n",
       "      <td>3.0</td>\n",
       "      <td>0.0</td>\n",
       "      <td>0.0</td>\n",
       "    </tr>\n",
       "    <tr>\n",
       "      <th>...</th>\n",
       "      <td>...</td>\n",
       "      <td>...</td>\n",
       "      <td>...</td>\n",
       "      <td>...</td>\n",
       "      <td>...</td>\n",
       "    </tr>\n",
       "    <tr>\n",
       "      <th>805816</th>\n",
       "      <td>4243322997</td>\n",
       "      <td>2022-02-28</td>\n",
       "      <td>2.0</td>\n",
       "      <td>0.0</td>\n",
       "      <td>0.0</td>\n",
       "    </tr>\n",
       "    <tr>\n",
       "      <th>805817</th>\n",
       "      <td>67461867</td>\n",
       "      <td>2022-02-28</td>\n",
       "      <td>3.0</td>\n",
       "      <td>0.0</td>\n",
       "      <td>0.0</td>\n",
       "    </tr>\n",
       "    <tr>\n",
       "      <th>805818</th>\n",
       "      <td>302417315</td>\n",
       "      <td>2022-02-28</td>\n",
       "      <td>NaN</td>\n",
       "      <td>NaN</td>\n",
       "      <td>NaN</td>\n",
       "    </tr>\n",
       "    <tr>\n",
       "      <th>805819</th>\n",
       "      <td>1780553365</td>\n",
       "      <td>2022-02-28</td>\n",
       "      <td>4.0</td>\n",
       "      <td>0.0</td>\n",
       "      <td>2.0</td>\n",
       "    </tr>\n",
       "    <tr>\n",
       "      <th>805820</th>\n",
       "      <td>798087856</td>\n",
       "      <td>2022-02-28</td>\n",
       "      <td>4.0</td>\n",
       "      <td>0.0</td>\n",
       "      <td>0.0</td>\n",
       "    </tr>\n",
       "  </tbody>\n",
       "</table>\n",
       "<p>805821 rows × 5 columns</p>\n",
       "</div>"
      ],
      "text/plain": [
       "         client_id  value_day  digital_30_cnt  tran_active_30_cnt  \\\n",
       "0       3596869440 2021-09-30            18.0                 8.0   \n",
       "1        181778433 2021-09-30             7.0                 3.0   \n",
       "2       4271531990 2021-09-30             2.0                 0.0   \n",
       "3       3949165697 2021-09-30            15.0                 4.0   \n",
       "4       1926920317 2021-09-30             3.0                 0.0   \n",
       "...            ...        ...             ...                 ...   \n",
       "805816  4243322997 2022-02-28             2.0                 0.0   \n",
       "805817    67461867 2022-02-28             3.0                 0.0   \n",
       "805818   302417315 2022-02-28             NaN                 NaN   \n",
       "805819  1780553365 2022-02-28             4.0                 0.0   \n",
       "805820   798087856 2022-02-28             4.0                 0.0   \n",
       "\n",
       "        oper_active_30_cnt  \n",
       "0                      9.0  \n",
       "1                      3.0  \n",
       "2                      0.0  \n",
       "3                      5.0  \n",
       "4                      0.0  \n",
       "...                    ...  \n",
       "805816                 0.0  \n",
       "805817                 0.0  \n",
       "805818                 NaN  \n",
       "805819                 2.0  \n",
       "805820                 0.0  \n",
       "\n",
       "[805821 rows x 5 columns]"
      ]
     },
     "execution_count": 9,
     "metadata": {},
     "output_type": "execute_result"
    }
   ],
   "source": [
    "df"
   ]
  },
  {
   "cell_type": "code",
   "execution_count": 10,
   "metadata": {},
   "outputs": [
    {
     "data": {
      "text/plain": [
       "(Timestamp('2021-09-30 00:00:00'), Timestamp('2022-02-28 00:00:00'))"
      ]
     },
     "execution_count": 10,
     "metadata": {},
     "output_type": "execute_result"
    }
   ],
   "source": [
    "min(df['value_day']), max(df['value_day'])"
   ]
  },
  {
   "cell_type": "code",
   "execution_count": 11,
   "metadata": {},
   "outputs": [],
   "source": [
    "active_user = df.query('~digital_30_cnt.isna() | ~tran_active_30_cnt.isna() | ~oper_active_30_cnt.isna()')"
   ]
  },
  {
   "cell_type": "code",
   "execution_count": 12,
   "metadata": {},
   "outputs": [],
   "source": [
    "nonactive_user = df.query('digital_30_cnt.isna() | tran_active_30_cnt.isna() | oper_active_30_cnt.isna()')"
   ]
  },
  {
   "cell_type": "code",
   "execution_count": 13,
   "metadata": {},
   "outputs": [],
   "source": [
    "total_active = active_user.groupby('value_day')['client_id'] \\\n",
    "    .agg('count') \\\n",
    "    .reset_index() \\\n",
    "    .rename(columns={'client_id':'total_active'}) "
   ]
  },
  {
   "cell_type": "code",
   "execution_count": 14,
   "metadata": {},
   "outputs": [
    {
     "data": {
      "image/png": "[encoded data removed]",
      "text/plain": [
       "<Figure size 432x288 with 1 Axes>"
      ]
     },
     "metadata": {
      "needs_background": "light"
     },
     "output_type": "display_data"
    }
   ],
   "source": [
    "total_active.plot(x='value_day', color='green');"
   ]
  },
  {
   "cell_type": "code",
   "execution_count": 15,
   "metadata": {},
   "outputs": [],
   "source": [
    "total_digital = active_user \\\n",
    "    .query('digital_30_cnt != 0') \\\n",
    "    .groupby('value_day')['client_id'] \\\n",
    "    .agg('count') \\\n",
    "    .reset_index() \\\n",
    "    .rename(columns={'client_id':'total_digital'}) "
   ]
  },
  {
   "cell_type": "code",
   "execution_count": 16,
   "metadata": {},
   "outputs": [],
   "source": [
    "total_oper = active_user \\\n",
    "    .query('oper_active_30_cnt != 0') \\\n",
    "    .groupby('value_day')['client_id'] \\\n",
    "    .agg('count') \\\n",
    "    .reset_index() \\\n",
    "    .rename(columns={'client_id':'total_oper'}) "
   ]
  },
  {
   "cell_type": "code",
   "execution_count": 17,
   "metadata": {},
   "outputs": [],
   "source": [
    "total_tran = active_user \\\n",
    "    .query('tran_active_30_cnt != 0') \\\n",
    "    .groupby('value_day')['client_id'] \\\n",
    "    .agg('count') \\\n",
    "    .reset_index() \\\n",
    "    .rename(columns={'client_id':'total_tran'})"
   ]
  },
  {
   "cell_type": "code",
   "execution_count": 18,
   "metadata": {},
   "outputs": [
    {
     "data": {
      "text/plain": [
       "<AxesSubplot:xlabel='value_day'>"
      ]
     },
     "execution_count": 18,
     "metadata": {},
     "output_type": "execute_result"
    },
    {
     "data": {
      "image/png": "[encoded data removed]",
      "text/plain": [
       "<Figure size 432x288 with 1 Axes>"
      ]
     },
     "metadata": {
      "needs_background": "light"
     },
     "output_type": "display_data"
    },
    {
     "data": {
      "image/png": "[encoded data removed]",
      "text/plain": [
       "<Figure size 432x288 with 1 Axes>"
      ]
     },
     "metadata": {
      "needs_background": "light"
     },
     "output_type": "display_data"
    },
    {
     "data": {
      "image/png": "[encoded data removed]",
      "text/plain": [
       "<Figure size 432x288 with 1 Axes>"
      ]
     },
     "metadata": {
      "needs_background": "light"
     },
     "output_type": "display_data"
    }
   ],
   "source": [
    "total_digital.plot(x='value_day', color='red'); total_oper.plot(x='value_day', color='green');\n",
    "total_tran.plot(x='value_day', color='blue')"
   ]
  },
  {
   "cell_type": "code",
   "execution_count": 19,
   "metadata": {},
   "outputs": [
    {
     "data": {
      "image/png": "[encoded data removed]",
      "text/plain": [
       "<Figure size 432x288 with 1 Axes>"
      ]
     },
     "metadata": {
      "needs_background": "light"
     },
     "output_type": "display_data"
    }
   ],
   "source": [
    "plt.plot(total_digital['value_day'], total_digital['total_digital'], color='g', label='Total Digital')\n",
    "plt.plot(total_digital['value_day'], total_oper['total_oper'], color='r', label='Total Oper')\n",
    "plt.plot(total_digital['value_day'], total_tran['total_tran'], color='b', label='Total Trans')\n",
    "plt.legend()\n",
    "plt.show()"
   ]
  },
  {
   "cell_type": "markdown",
   "metadata": {},
   "source": [
    "### Выводы\n",
    "1. В целом отмечается рост активности пользователей во всех сегментов в рассмотриваемом периоде времени.\n",
    "2. В данных присутствует некоторая сезональность связанная с окончанием календарного года, более выраженная в разрезе операционной активности: отмечается резкий рост на графике в период с ноября по декабрь и следом падение до конца года и дальнейший рост в период новогодних праздников. Данный тренд является логичным самим по себе и отражает увеличение покупательской способности накануне новогодних праздников, затем период \"затишья\" за счет закрытие всех потребностей, и далее - рост в период новогодних праздников\n",
    "3. Более гладкий и пологий график в когорте диджитал активных клиентов: они пользуются приложением в этот период чаще, даже тогда когда не совершают покупки: возможно в этот период вход в приложение связан в планирирование трат, возможно с просмотром предложений партнеров. Требуется дополнительные данные чтобы понять поведение пользователей в приложении в этот период времени"
   ]
  },
  {
   "cell_type": "markdown",
   "metadata": {},
   "source": [
    "### Вопросы\n",
    "\n",
    "1. Eсли построить проникновение транзакционно активных клиентов в когорты диджитал активных клиентов, то мы увидим, что существенная часть клиентов использует мобильное приложение, но не совершает транзакции (платежи и переводы) в нем. Какие гипотезы такого поведения можно предположить? Как их можно проверить?\n",
    "\n",
    "> С определенной долей вероятности можно утвреждать, что большинство пользователей заходит в приложение для того чтобы проверить баланс или получить какую-либо финансовую информацию: курс валют или информацию по условиям открытия счета или другой услуги банка. Чтобы подтвердить гипотезу можно посмотреть на данные трекинга пользователей в приложении: в каком разделе приложения чаще всего бывают пользователи не совершающие никаких транзакций. Одновременно можно посмотреть продолжительность сессии такой категории пользователей и сравнить ее с длительностью сессии пользователей совершающих транзакции в приложении: если гипотеза верна и пользователи чаще всего заходят в приложении чтобы проверить, например, свой баланс, то средняя продолжительность сессии должна быть короче у таких пользователей "
   ]
  },
  {
   "cell_type": "markdown",
   "metadata": {},
   "source": [
    "2. Kак можно исправить эту ситуацию и увеличить проникновение транзакционно активных клиентов в диджитал активных?\n",
    "\n",
    "> Как вариант, увеличение транзакционной активности возможно через персональные предложения, которые могут быть сформированы на основании данных о действии пользователя (рекламные системы, системы трекинга данных в приложении, данные соц. сетей и т.д.). Кроме того, в течение месяца есть определенные пики  (как правило, с периодичностью в 2 недели) когда в целом у пользователей вырастает потребительская активность. Это связано с поступление денежных средств на счет и, как правило, происходит это всегда в одно и тоже время (день авансирования и день окончательного расчета). Зная среднии сроки поступления денежных средств на счет, можно за 1-2 дня сделать акционное партнерское предложение на основании персональных рекомендаций со сроком, предположим, 5 дней. И на 3-4 день напомнить об этом предложении, если им еще не воспользовались"
   ]
  },
  {
   "cell_type": "code",
   "execution_count": null,
   "metadata": {},
   "outputs": [],
   "source": []
  },
  {
   "cell_type": "code",
   "execution_count": null,
   "metadata": {},
   "outputs": [],
   "source": []
  }
 ],
 "metadata": {
  "kernelspec": {
   "display_name": "Python 3 (ipykernel)",
   "language": "python",
   "name": "python3"
  },
  "language_info": {
   "codemirror_mode": {
    "name": "ipython",
    "version": 3
   },
   "file_extension": ".py",
   "mimetype": "text/x-python",
   "name": "python",
   "nbconvert_exporter": "python",
   "pygments_lexer": "ipython3",
   "version": "3.8.9"
  }
 },
 "nbformat": 4,
 "nbformat_minor": 2
}
